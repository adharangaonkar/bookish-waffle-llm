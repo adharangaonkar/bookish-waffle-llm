{
 "cells": [
  {
   "cell_type": "markdown",
   "id": "6f3ec203-c757-4bc4-8cf9-dbc9a71c4657",
   "metadata": {},
   "source": [
    "## TF - IDF"
   ]
  },
  {
   "cell_type": "markdown",
   "id": "933c3581-bee6-4429-b80e-37a7531538b9",
   "metadata": {},
   "source": [
    "TF-IDF is a way to convert text into numbers (vectors) that reflect not just how often a word appears (TF), but also how important it is — measured by how rare it is across documents (IDF)."
   ]
  },
  {
   "cell_type": "markdown",
   "id": "ec828caa-c245-48f8-a17f-377b7597597c",
   "metadata": {},
   "source": [
    "## 1. Term Frequency (TF)\n",
    "\n",
    "Measures how often a term appears in a document.\n",
    "\n",
    "$$\n",
    "\\text{TF}(t, d) = \\frac{\\text{count of } t \\text{ in } d}{\\text{total terms in } d}\n",
    "$$\n",
    "\n",
    "---\n",
    "\n",
    "## 2. Inverse Document Frequency (IDF)\n",
    "\n",
    "Measures how rare a word is across all documents.\n",
    "\n",
    "$$\n",
    "\\text{IDF}(t) = \\log\\left(\\frac{N}{1 + \\text{DF}(t)}\\right)\n",
    "$$\n",
    "\n",
    "Where:\n",
    "\n",
    "- **N** = total number of documents  \n",
    "- **DF(t)** = number of documents where term *t* appears  \n",
    "- **+1** is added to avoid division by zero\n",
    "\n",
    "---\n",
    "\n",
    "## 3. TF-IDF Score\n",
    "\n",
    "$$\n",
    "\\text{TF-IDF}(t, d) = \\text{TF}(t, d) \\times \\text{IDF}(t)\n",
    "$$\n",
    "\n",
    "This value increases when a term appears frequently in a document but not in many other documents.\n"
   ]
  },
  {
   "cell_type": "markdown",
   "id": "925c2785-ca95-4edb-a365-e086a3ff30a3",
   "metadata": {},
   "source": [
    "## Why Use Log in IDF?\n",
    "\n",
    "### 1. Problem with raw inverse frequency\n",
    "\n",
    "If we define IDF as:\n",
    "\n",
    "$$\n",
    "\\text{IDF}(t) = \\frac{N}{\\text{DF}(t)}\n",
    "$$\n",
    "\n",
    "Then rare words get **huge weights**, and common words get **very tiny weights**.  \n",
    "The difference becomes **too extreme** to model effectively.\n",
    "\n",
    "---\n",
    "\n",
    "### 2. Log smooths the scale\n",
    "\n",
    "By applying logarithm:\n",
    "\n",
    "$$\n",
    "\\text{IDF}(t) = \\log\\left(\\frac{N}{1 + \\text{DF}(t)}\\right)\n",
    "$$\n",
    "\n",
    "- **Large values are compressed**  \n",
    "- **Small values are preserved better**  \n",
    "- It turns **multiplication into addition** in vector space  \n",
    "  (helpful for dot product, cosine similarity, linear models, etc.)\n",
    "\n",
    "---\n",
    "\n",
    "### 3. Analogy\n",
    "\n",
    "- Word appears in 1 doc → raw IDF = 100  \n",
    "- Word appears in 100 docs → raw IDF = 1  \n",
    "  → That's a **100× gap**\n",
    "\n",
    "Using log:\n",
    "\n",
    "- Word appears in 1 doc → IDF ≈ `log(100)` ≈ **4.6**  \n",
    "- Word appears in 100 docs → IDF ≈ `log(1)` = **0**\n",
    "\n",
    " Much **smoother**, **more numerically stable**, and **better for modeling**\n"
   ]
  },
  {
   "cell_type": "markdown",
   "id": "1f0620d1-ea87-4f91-9599-e24a2e7ec2ce",
   "metadata": {},
   "source": [
    "### Simple TF-IDF"
   ]
  },
  {
   "cell_type": "code",
   "execution_count": 2,
   "id": "e16ea927-f46c-4ed1-a351-78e53c975e49",
   "metadata": {},
   "outputs": [],
   "source": [
    "from sklearn.feature_extraction.text import TfidfVectorizer\n",
    "import pandas as pd"
   ]
  },
  {
   "cell_type": "code",
   "execution_count": 3,
   "id": "5be3d142-4558-4cfc-a54e-0cdd41a479c6",
   "metadata": {},
   "outputs": [],
   "source": [
    "# Sample corpus\n",
    "documents = [\n",
    "    \"I love NLP\",\n",
    "    \"NLP is fun\",\n",
    "    \"I love machine learning\"\n",
    "]"
   ]
  },
  {
   "cell_type": "code",
   "execution_count": 4,
   "id": "3c679d45-cb44-48c5-ab41-1da722c22b08",
   "metadata": {},
   "outputs": [],
   "source": [
    "# Create the TF-IDF vectorizer\n",
    "vectorizer = TfidfVectorizer(token_pattern=r\"(?u)\\b\\w+\\b\")  # includes single-letter words like \"I\"\n"
   ]
  },
  {
   "cell_type": "code",
   "execution_count": 5,
   "id": "1f68133b-b15d-4a0c-96a5-4b7dd6d9ad48",
   "metadata": {},
   "outputs": [
    {
     "data": {
      "text/html": [
       "<style>#sk-container-id-1 {color: black;}#sk-container-id-1 pre{padding: 0;}#sk-container-id-1 div.sk-toggleable {background-color: white;}#sk-container-id-1 label.sk-toggleable__label {cursor: pointer;display: block;width: 100%;margin-bottom: 0;padding: 0.3em;box-sizing: border-box;text-align: center;}#sk-container-id-1 label.sk-toggleable__label-arrow:before {content: \"▸\";float: left;margin-right: 0.25em;color: #696969;}#sk-container-id-1 label.sk-toggleable__label-arrow:hover:before {color: black;}#sk-container-id-1 div.sk-estimator:hover label.sk-toggleable__label-arrow:before {color: black;}#sk-container-id-1 div.sk-toggleable__content {max-height: 0;max-width: 0;overflow: hidden;text-align: left;background-color: #f0f8ff;}#sk-container-id-1 div.sk-toggleable__content pre {margin: 0.2em;color: black;border-radius: 0.25em;background-color: #f0f8ff;}#sk-container-id-1 input.sk-toggleable__control:checked~div.sk-toggleable__content {max-height: 200px;max-width: 100%;overflow: auto;}#sk-container-id-1 input.sk-toggleable__control:checked~label.sk-toggleable__label-arrow:before {content: \"▾\";}#sk-container-id-1 div.sk-estimator input.sk-toggleable__control:checked~label.sk-toggleable__label {background-color: #d4ebff;}#sk-container-id-1 div.sk-label input.sk-toggleable__control:checked~label.sk-toggleable__label {background-color: #d4ebff;}#sk-container-id-1 input.sk-hidden--visually {border: 0;clip: rect(1px 1px 1px 1px);clip: rect(1px, 1px, 1px, 1px);height: 1px;margin: -1px;overflow: hidden;padding: 0;position: absolute;width: 1px;}#sk-container-id-1 div.sk-estimator {font-family: monospace;background-color: #f0f8ff;border: 1px dotted black;border-radius: 0.25em;box-sizing: border-box;margin-bottom: 0.5em;}#sk-container-id-1 div.sk-estimator:hover {background-color: #d4ebff;}#sk-container-id-1 div.sk-parallel-item::after {content: \"\";width: 100%;border-bottom: 1px solid gray;flex-grow: 1;}#sk-container-id-1 div.sk-label:hover label.sk-toggleable__label {background-color: #d4ebff;}#sk-container-id-1 div.sk-serial::before {content: \"\";position: absolute;border-left: 1px solid gray;box-sizing: border-box;top: 0;bottom: 0;left: 50%;z-index: 0;}#sk-container-id-1 div.sk-serial {display: flex;flex-direction: column;align-items: center;background-color: white;padding-right: 0.2em;padding-left: 0.2em;position: relative;}#sk-container-id-1 div.sk-item {position: relative;z-index: 1;}#sk-container-id-1 div.sk-parallel {display: flex;align-items: stretch;justify-content: center;background-color: white;position: relative;}#sk-container-id-1 div.sk-item::before, #sk-container-id-1 div.sk-parallel-item::before {content: \"\";position: absolute;border-left: 1px solid gray;box-sizing: border-box;top: 0;bottom: 0;left: 50%;z-index: -1;}#sk-container-id-1 div.sk-parallel-item {display: flex;flex-direction: column;z-index: 1;position: relative;background-color: white;}#sk-container-id-1 div.sk-parallel-item:first-child::after {align-self: flex-end;width: 50%;}#sk-container-id-1 div.sk-parallel-item:last-child::after {align-self: flex-start;width: 50%;}#sk-container-id-1 div.sk-parallel-item:only-child::after {width: 0;}#sk-container-id-1 div.sk-dashed-wrapped {border: 1px dashed gray;margin: 0 0.4em 0.5em 0.4em;box-sizing: border-box;padding-bottom: 0.4em;background-color: white;}#sk-container-id-1 div.sk-label label {font-family: monospace;font-weight: bold;display: inline-block;line-height: 1.2em;}#sk-container-id-1 div.sk-label-container {text-align: center;}#sk-container-id-1 div.sk-container {/* jupyter's `normalize.less` sets `[hidden] { display: none; }` but bootstrap.min.css set `[hidden] { display: none !important; }` so we also need the `!important` here to be able to override the default hidden behavior on the sphinx rendered scikit-learn.org. See: https://github.com/scikit-learn/scikit-learn/issues/21755 */display: inline-block !important;position: relative;}#sk-container-id-1 div.sk-text-repr-fallback {display: none;}</style><div id=\"sk-container-id-1\" class=\"sk-top-container\"><div class=\"sk-text-repr-fallback\"><pre>TfidfVectorizer(token_pattern=&#x27;(?u)\\\\b\\\\w+\\\\b&#x27;)</pre><b>In a Jupyter environment, please rerun this cell to show the HTML representation or trust the notebook. <br />On GitHub, the HTML representation is unable to render, please try loading this page with nbviewer.org.</b></div><div class=\"sk-container\" hidden><div class=\"sk-item\"><div class=\"sk-estimator sk-toggleable\"><input class=\"sk-toggleable__control sk-hidden--visually\" id=\"sk-estimator-id-1\" type=\"checkbox\" checked><label for=\"sk-estimator-id-1\" class=\"sk-toggleable__label sk-toggleable__label-arrow\">TfidfVectorizer</label><div class=\"sk-toggleable__content\"><pre>TfidfVectorizer(token_pattern=&#x27;(?u)\\\\b\\\\w+\\\\b&#x27;)</pre></div></div></div></div></div>"
      ],
      "text/plain": [
       "TfidfVectorizer(token_pattern='(?u)\\\\b\\\\w+\\\\b')"
      ]
     },
     "execution_count": 5,
     "metadata": {},
     "output_type": "execute_result"
    }
   ],
   "source": [
    "vectorizer"
   ]
  },
  {
   "cell_type": "code",
   "execution_count": 6,
   "id": "a2d1fbcb-e69e-46c1-a482-52aafcb7350e",
   "metadata": {},
   "outputs": [],
   "source": [
    "# Fit and transform the documents\n",
    "X = vectorizer.fit_transform(documents)"
   ]
  },
  {
   "cell_type": "code",
   "execution_count": 8,
   "id": "b80b04a5-f74f-4c01-929a-56693c2499d4",
   "metadata": {},
   "outputs": [],
   "source": [
    "# Get feature (word) names\n",
    "features = vectorizer.get_feature_names_out()"
   ]
  },
  {
   "cell_type": "code",
   "execution_count": 9,
   "id": "167d4b30-1310-4caa-9ae0-42f86bdf0467",
   "metadata": {},
   "outputs": [
    {
     "data": {
      "text/plain": [
       "array(['fun', 'i', 'is', 'learning', 'love', 'machine', 'nlp'],\n",
       "      dtype=object)"
      ]
     },
     "execution_count": 9,
     "metadata": {},
     "output_type": "execute_result"
    }
   ],
   "source": [
    "features"
   ]
  },
  {
   "cell_type": "code",
   "execution_count": 10,
   "id": "92fa15cc-6e58-4aa7-8846-0e382ffc2e28",
   "metadata": {},
   "outputs": [],
   "source": [
    "# Convert to a readable pandas DataFrame\n",
    "tfidf_df = pd.DataFrame(X.toarray(), columns=features)"
   ]
  },
  {
   "cell_type": "code",
   "execution_count": 11,
   "id": "de2b04d3-113f-411c-82b1-ee38805e3a69",
   "metadata": {},
   "outputs": [
    {
     "name": "stdout",
     "output_type": "stream",
     "text": [
      "        fun         i        is  learning      love   machine      nlp\n",
      "0  0.000000  0.577350  0.000000  0.000000  0.577350  0.000000  0.57735\n",
      "1  0.622766  0.000000  0.622766  0.000000  0.000000  0.000000  0.47363\n",
      "2  0.000000  0.428046  0.000000  0.562829  0.428046  0.562829  0.00000\n"
     ]
    }
   ],
   "source": [
    "# Show the DataFrame\n",
    "print(tfidf_df)\n"
   ]
  },
  {
   "cell_type": "markdown",
   "id": "b8d528ca-4d1d-48c9-a8e0-588b9590287a",
   "metadata": {},
   "source": [
    "### TF-IDF on 20 Newsgroups Dataset "
   ]
  },
  {
   "cell_type": "code",
   "execution_count": 12,
   "id": "51add2a8-83fd-44e1-84f8-6967abb3427c",
   "metadata": {},
   "outputs": [],
   "source": [
    "from sklearn.datasets import fetch_20newsgroups\n",
    "from sklearn.feature_extraction.text import TfidfVectorizer\n",
    "from sklearn.linear_model import LogisticRegression\n",
    "from sklearn.model_selection import train_test_split\n",
    "from sklearn.metrics import classification_report"
   ]
  },
  {
   "cell_type": "code",
   "execution_count": 13,
   "id": "74ef3a7f-a2ff-4520-8f2e-ae3b9126fae3",
   "metadata": {},
   "outputs": [],
   "source": [
    "# 1. Load dataset (subset for clarity and speed)\n",
    "categories = ['sci.space', 'rec.sport.hockey', 'comp.graphics']\n",
    "data = fetch_20newsgroups(subset='train', categories=categories)"
   ]
  },
  {
   "cell_type": "markdown",
   "id": "1a6335a5-c247-4032-8e55-d18fa6c7ff62",
   "metadata": {},
   "source": [
    "**load a subset of the 20 Newsgroups dataset, limited to 3 categories:**\n",
    "\n",
    "- sci.space\n",
    "\n",
    "- rec.sport.hockey\n",
    "\n",
    "- comp.graphics\n",
    "\n",
    "data.data: list of news articles (strings)\n",
    "\n",
    "data.target: numeric category labels (0, 1, 2)"
   ]
  },
  {
   "cell_type": "code",
   "execution_count": 18,
   "id": "909270db-e866-4941-bf5b-64f497de08c6",
   "metadata": {},
   "outputs": [],
   "source": [
    "# 2. Train-test split\n",
    "X_train, X_test, y_train, y_test = train_test_split(\n",
    "    data.data, data.target, test_size=0.2, random_state=42\n",
    ")\n"
   ]
  },
  {
   "cell_type": "code",
   "execution_count": 20,
   "id": "fcf341d6-d77a-4c7c-b472-915b0a0ea90d",
   "metadata": {},
   "outputs": [
    {
     "data": {
      "text/plain": [
       "'From: d88-jwa@hemul.nada.kth.se (Jon Wtte)\\nSubject: Re: Please Recommend 3D Graphics Library For Mac.\\nOrganization: Royal Institute of Technology, Stockholm, Sweden\\nLines: 21\\nNntp-Posting-Host: hemul.nada.kth.se\\n\\nIn <Z2442B4w164w@cellar.org> tsa@cellar.org (The Silent Assassin) writes:\\n\\n>> I\\'m building a CAD package and need a 3D graphics library that can handle\\n>> some rudimentry tasks, such as hidden line removal, shading, animation, etc.\\n>> \\n>> Can you please offer some recommendations?\\n\\nI think APDA has something called MacWireFrame which is a full\\nwire-frame (and supposedly hidden-line removal) library.\\nI think it weighs in at $99 (but I\\'ve been wrong on an order\\nof magnitude before)\\n\\n>Libertarian, atheist, semi-anarchal Techno-Rat.\\n\\nI can relate to that\\n\\n\\t\\t\\t\\t\\t/h+\\n-- \\n -- Jon W{tte, h+@nada.kth.se, Mac Hacker Deluxe --\\n\\n  \"On a clear disc, you can seek forever.\"\\n'"
      ]
     },
     "execution_count": 20,
     "metadata": {},
     "output_type": "execute_result"
    }
   ],
   "source": [
    "X_train[0]"
   ]
  },
  {
   "cell_type": "code",
   "execution_count": 22,
   "id": "9cd0d899-5ee2-4ebb-85b8-32606ce0c8fd",
   "metadata": {},
   "outputs": [
    {
     "data": {
      "text/plain": [
       "0"
      ]
     },
     "execution_count": 22,
     "metadata": {},
     "output_type": "execute_result"
    }
   ],
   "source": [
    "y_train[0]"
   ]
  },
  {
   "cell_type": "code",
   "execution_count": 23,
   "id": "98f19aa7-3aa6-4efc-b4ca-c604287f1023",
   "metadata": {},
   "outputs": [],
   "source": [
    "# 3. Initialize and fit the TF-IDF vectorizer\n",
    "vectorizer = TfidfVectorizer(stop_words='english')\n",
    "X_train_tfidf = vectorizer.fit_transform(X_train)  # fit on train data\n",
    "X_test_tfidf = vectorizer.transform(X_test)        # transform test data"
   ]
  },
  {
   "cell_type": "markdown",
   "id": "47dbce94-99ea-45a5-a103-03465fbf96a2",
   "metadata": {},
   "source": [
    "**Creates a numerical matrix where:**\n",
    "\n",
    "- Rows = documents\n",
    "\n",
    "- Columns = vocabulary (words)\n",
    "\n",
    "- Values = TF-IDF scores\n",
    "\n",
    "**.fit_transform():**\n",
    "\n",
    "Learns vocabulary + computes TF-IDF for training set\n",
    "\n",
    "**.transform():**\n",
    "\n",
    "Uses same vocab on test set to ensure consistent feature space\n",
    "\n",
    "**The number of columns = total number of unique words (tokens) across the entire training set vocabulary.**"
   ]
  },
  {
   "cell_type": "code",
   "execution_count": 25,
   "id": "3a6fc350-96fe-4219-9cd8-44cb464abea9",
   "metadata": {},
   "outputs": [
    {
     "data": {
      "text/html": [
       "<style>#sk-container-id-2 {color: black;}#sk-container-id-2 pre{padding: 0;}#sk-container-id-2 div.sk-toggleable {background-color: white;}#sk-container-id-2 label.sk-toggleable__label {cursor: pointer;display: block;width: 100%;margin-bottom: 0;padding: 0.3em;box-sizing: border-box;text-align: center;}#sk-container-id-2 label.sk-toggleable__label-arrow:before {content: \"▸\";float: left;margin-right: 0.25em;color: #696969;}#sk-container-id-2 label.sk-toggleable__label-arrow:hover:before {color: black;}#sk-container-id-2 div.sk-estimator:hover label.sk-toggleable__label-arrow:before {color: black;}#sk-container-id-2 div.sk-toggleable__content {max-height: 0;max-width: 0;overflow: hidden;text-align: left;background-color: #f0f8ff;}#sk-container-id-2 div.sk-toggleable__content pre {margin: 0.2em;color: black;border-radius: 0.25em;background-color: #f0f8ff;}#sk-container-id-2 input.sk-toggleable__control:checked~div.sk-toggleable__content {max-height: 200px;max-width: 100%;overflow: auto;}#sk-container-id-2 input.sk-toggleable__control:checked~label.sk-toggleable__label-arrow:before {content: \"▾\";}#sk-container-id-2 div.sk-estimator input.sk-toggleable__control:checked~label.sk-toggleable__label {background-color: #d4ebff;}#sk-container-id-2 div.sk-label input.sk-toggleable__control:checked~label.sk-toggleable__label {background-color: #d4ebff;}#sk-container-id-2 input.sk-hidden--visually {border: 0;clip: rect(1px 1px 1px 1px);clip: rect(1px, 1px, 1px, 1px);height: 1px;margin: -1px;overflow: hidden;padding: 0;position: absolute;width: 1px;}#sk-container-id-2 div.sk-estimator {font-family: monospace;background-color: #f0f8ff;border: 1px dotted black;border-radius: 0.25em;box-sizing: border-box;margin-bottom: 0.5em;}#sk-container-id-2 div.sk-estimator:hover {background-color: #d4ebff;}#sk-container-id-2 div.sk-parallel-item::after {content: \"\";width: 100%;border-bottom: 1px solid gray;flex-grow: 1;}#sk-container-id-2 div.sk-label:hover label.sk-toggleable__label {background-color: #d4ebff;}#sk-container-id-2 div.sk-serial::before {content: \"\";position: absolute;border-left: 1px solid gray;box-sizing: border-box;top: 0;bottom: 0;left: 50%;z-index: 0;}#sk-container-id-2 div.sk-serial {display: flex;flex-direction: column;align-items: center;background-color: white;padding-right: 0.2em;padding-left: 0.2em;position: relative;}#sk-container-id-2 div.sk-item {position: relative;z-index: 1;}#sk-container-id-2 div.sk-parallel {display: flex;align-items: stretch;justify-content: center;background-color: white;position: relative;}#sk-container-id-2 div.sk-item::before, #sk-container-id-2 div.sk-parallel-item::before {content: \"\";position: absolute;border-left: 1px solid gray;box-sizing: border-box;top: 0;bottom: 0;left: 50%;z-index: -1;}#sk-container-id-2 div.sk-parallel-item {display: flex;flex-direction: column;z-index: 1;position: relative;background-color: white;}#sk-container-id-2 div.sk-parallel-item:first-child::after {align-self: flex-end;width: 50%;}#sk-container-id-2 div.sk-parallel-item:last-child::after {align-self: flex-start;width: 50%;}#sk-container-id-2 div.sk-parallel-item:only-child::after {width: 0;}#sk-container-id-2 div.sk-dashed-wrapped {border: 1px dashed gray;margin: 0 0.4em 0.5em 0.4em;box-sizing: border-box;padding-bottom: 0.4em;background-color: white;}#sk-container-id-2 div.sk-label label {font-family: monospace;font-weight: bold;display: inline-block;line-height: 1.2em;}#sk-container-id-2 div.sk-label-container {text-align: center;}#sk-container-id-2 div.sk-container {/* jupyter's `normalize.less` sets `[hidden] { display: none; }` but bootstrap.min.css set `[hidden] { display: none !important; }` so we also need the `!important` here to be able to override the default hidden behavior on the sphinx rendered scikit-learn.org. See: https://github.com/scikit-learn/scikit-learn/issues/21755 */display: inline-block !important;position: relative;}#sk-container-id-2 div.sk-text-repr-fallback {display: none;}</style><div id=\"sk-container-id-2\" class=\"sk-top-container\"><div class=\"sk-text-repr-fallback\"><pre>LogisticRegression(max_iter=1000)</pre><b>In a Jupyter environment, please rerun this cell to show the HTML representation or trust the notebook. <br />On GitHub, the HTML representation is unable to render, please try loading this page with nbviewer.org.</b></div><div class=\"sk-container\" hidden><div class=\"sk-item\"><div class=\"sk-estimator sk-toggleable\"><input class=\"sk-toggleable__control sk-hidden--visually\" id=\"sk-estimator-id-2\" type=\"checkbox\" checked><label for=\"sk-estimator-id-2\" class=\"sk-toggleable__label sk-toggleable__label-arrow\">LogisticRegression</label><div class=\"sk-toggleable__content\"><pre>LogisticRegression(max_iter=1000)</pre></div></div></div></div></div>"
      ],
      "text/plain": [
       "LogisticRegression(max_iter=1000)"
      ]
     },
     "execution_count": 25,
     "metadata": {},
     "output_type": "execute_result"
    }
   ],
   "source": [
    "# 4. Initialize and train the classifier\n",
    "clf = LogisticRegression(max_iter=1000)\n",
    "clf.fit(X_train_tfidf, y_train)"
   ]
  },
  {
   "cell_type": "code",
   "execution_count": 26,
   "id": "55622efc-adbb-4cc8-907c-9e1b09159b90",
   "metadata": {},
   "outputs": [],
   "source": [
    "# 5. Predict on test set\n",
    "y_pred = clf.predict(X_test_tfidf)"
   ]
  },
  {
   "cell_type": "code",
   "execution_count": 27,
   "id": "8635a257-a5d3-40fe-b26f-59456d64d193",
   "metadata": {},
   "outputs": [
    {
     "name": "stdout",
     "output_type": "stream",
     "text": [
      "                  precision    recall  f1-score   support\n",
      "\n",
      "   comp.graphics       0.93      0.98      0.95       128\n",
      "rec.sport.hockey       0.99      0.96      0.97       114\n",
      "       sci.space       0.98      0.95      0.96       114\n",
      "\n",
      "        accuracy                           0.96       356\n",
      "       macro avg       0.97      0.96      0.96       356\n",
      "    weighted avg       0.96      0.96      0.96       356\n",
      "\n"
     ]
    }
   ],
   "source": [
    "# 6. Evaluate\n",
    "print(classification_report(y_test, y_pred, target_names=data.target_names))"
   ]
  },
  {
   "cell_type": "markdown",
   "id": "9bbca6c8-c2f8-48f1-93eb-e739c5b4ded1",
   "metadata": {},
   "source": [
    "| Component | What it captures                      | Why it matters                         |\n",
    "| --------- | ------------------------------------- | -------------------------------------- |\n",
    "| **TF**    | How important a word is in a document | Captures the document’s focus          |\n",
    "| **IDF**   | How rare the word is in the corpus    | Filters out common/uninformative words |\n"
   ]
  },
  {
   "cell_type": "code",
   "execution_count": null,
   "id": "997ea7b7-7ca6-44ee-a4a4-dab7e3eef15c",
   "metadata": {},
   "outputs": [],
   "source": []
  }
 ],
 "metadata": {
  "kernelspec": {
   "display_name": "dev",
   "language": "python",
   "name": "dev"
  },
  "language_info": {
   "codemirror_mode": {
    "name": "ipython",
    "version": 3
   },
   "file_extension": ".py",
   "mimetype": "text/x-python",
   "name": "python",
   "nbconvert_exporter": "python",
   "pygments_lexer": "ipython3",
   "version": "3.8.18"
  }
 },
 "nbformat": 4,
 "nbformat_minor": 5
}
