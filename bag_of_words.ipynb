{
 "cells": [
  {
   "cell_type": "code",
   "execution_count": 2,
   "id": "33516fec-dd94-4d17-b6b4-494ad2b7de64",
   "metadata": {},
   "outputs": [],
   "source": [
    "from sklearn.feature_extraction.text import CountVectorizer"
   ]
  },
  {
   "cell_type": "code",
   "execution_count": 3,
   "id": "b09dd2aa-5e75-4b5d-92cb-87b9c651fa5e",
   "metadata": {},
   "outputs": [],
   "source": [
    "# Sample documents\n",
    "documents = [\n",
    "    \"I love NLP\",\n",
    "    \"NLP is fun\",\n",
    "    \"I love machine learning\"\n",
    "]\n"
   ]
  },
  {
   "cell_type": "code",
   "execution_count": 4,
   "id": "15ab941c-244f-4ee8-a4d5-478a6558625a",
   "metadata": {},
   "outputs": [],
   "source": [
    "# Initialize BoW vectorizer\n",
    "vectorizer = CountVectorizer()"
   ]
  },
  {
   "cell_type": "code",
   "execution_count": 5,
   "id": "80916c23-8664-4526-a7fd-c9f57c660ab3",
   "metadata": {},
   "outputs": [],
   "source": [
    "# Fit and transform documents into BoW matrix\n",
    "X = vectorizer.fit_transform(documents)"
   ]
  },
  {
   "cell_type": "code",
   "execution_count": 6,
   "id": "72976822-fa72-47a2-9688-a7ea8f271fd3",
   "metadata": {},
   "outputs": [
    {
     "name": "stdout",
     "output_type": "stream",
     "text": [
      "Vocabulary: ['fun' 'is' 'learning' 'love' 'machine' 'nlp']\n"
     ]
    }
   ],
   "source": [
    "# Show feature names (vocabulary)\n",
    "print(\"Vocabulary:\", vectorizer.get_feature_names_out())"
   ]
  },
  {
   "cell_type": "code",
   "execution_count": 7,
   "id": "d66198ae-2436-4730-8c00-2927efdb2a57",
   "metadata": {},
   "outputs": [
    {
     "name": "stdout",
     "output_type": "stream",
     "text": [
      "BoW Matrix:\n",
      " [[0 0 0 1 0 1]\n",
      " [1 1 0 0 0 1]\n",
      " [0 0 1 1 1 0]]\n"
     ]
    }
   ],
   "source": [
    "# Show BoW matrix (as array)\n",
    "print(\"BoW Matrix:\\n\", X.toarray())"
   ]
  },
  {
   "cell_type": "markdown",
   "id": "d5d2cd73-cb9e-40d6-9938-f792a1a7ddf1",
   "metadata": {},
   "source": [
    "The word \"I\" is missing because CountVectorizer removes English stop words by default in some configurations, but not unless you explicitly set it.\n",
    "\n",
    "However, in this specific case — by default — CountVectorizer lowercases all text and tokenizes using a regex that ignores 1-character tokens (like \"I\").\n",
    "\n"
   ]
  },
  {
   "cell_type": "code",
   "execution_count": null,
   "id": "cf6c92e0-fb1d-4f45-8c31-2195de076823",
   "metadata": {},
   "outputs": [],
   "source": []
  }
 ],
 "metadata": {
  "kernelspec": {
   "display_name": "dev",
   "language": "python",
   "name": "dev"
  },
  "language_info": {
   "codemirror_mode": {
    "name": "ipython",
    "version": 3
   },
   "file_extension": ".py",
   "mimetype": "text/x-python",
   "name": "python",
   "nbconvert_exporter": "python",
   "pygments_lexer": "ipython3",
   "version": "3.8.18"
  }
 },
 "nbformat": 4,
 "nbformat_minor": 5
}
